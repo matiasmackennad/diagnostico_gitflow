{
 "cells": [
  {
   "cell_type": "code",
   "execution_count": 1,
   "metadata": {
    "scrolled": false
   },
   "outputs": [
    {
     "name": "stdout",
     "output_type": "stream",
     "text": [
      "Cargando tweets...\n",
      "Cargando usuarios...\n",
      "Datos cargados\n",
      "Elija una opcion:\n",
      "[0] - Obtener el top 10 de tweets más retweeted\n",
      "[1] - Obtener el top 10 de usuarios en función a la cantidad de tweets que emitieron\n",
      "[2] - Obtener el top 10 días donde hay más tweets\n",
      "[3] - Obtener el Top 10 hashtags más usados\n",
      "[4] - Salir\n",
      "Opcion seleccionada: 4\n",
      "Adios\n"
     ]
    }
   ],
   "source": [
    "import pandas as pd\n",
    "import json\n",
    "from collections import Counter\n",
    "\n",
    "def get_tweets(df):\n",
    "    return \"tweets\"\n",
    "\n",
    "def get_users(df):\n",
    "    return \"users\"\n",
    "\n",
    "def get_dates(df):\n",
    "    return \"dates\"\n",
    "\n",
    "def get_hashtags(df):\n",
    "    return \"hashtags\"\n",
    "\n",
    "def main():\n",
    "    print(\"Cargando tweets...\")\n",
    "    with open(\"farmers-protest-tweets-2021-03-5.json\", \"r\") as file:     \n",
    "        data = file.readlines()\n",
    "        data = list(map(json.loads, data))\n",
    "    df = pd.DataFrame(data)\n",
    "    print(\"Cargando usuarios...\")\n",
    "    udf = pd.json_normalize(df['user'])\n",
    "    udf.drop(['description', 'linkTcourl'], axis=1, inplace=True)\n",
    "    udf.rename(columns={'id':'userId', 'url':'profileUrl'}, inplace=True)\n",
    "    print(\"Datos cargados\")\n",
    "    condicion = True\n",
    "    while condicion:\n",
    "        print(\"Elija una opcion:\")\n",
    "        print(\"[0] - Obtener el top 10 de tweets más retweeted\")\n",
    "        print(\"[1] - Obtener el top 10 de usuarios en función a la cantidad de tweets que emitieron\")\n",
    "        print(\"[2] - Obtener el top 10 días donde hay más tweets\")\n",
    "        print(\"[3] - Obtener el Top 10 hashtags más usados\")\n",
    "        print(\"[4] - Salir\")\n",
    "        option = input(\"Opcion seleccionada: \")\n",
    "        if option == \"0\":\n",
    "            print(get_tweets(df))\n",
    "        elif option == \"1\":\n",
    "            print(get_users(df))\n",
    "        elif option == \"2\":\n",
    "            print(get_dates(df))\n",
    "        elif option == \"3\":\n",
    "            print(get_hashtags(df))\n",
    "        elif option == \"4\":\n",
    "            print(\"Adios\")\n",
    "            condicion = False\n",
    "        else:\n",
    "            print(\"Opcion no valida\")\n",
    "\n",
    "if __name__ == \"__main__\":\n",
    "    main()"
   ]
  },
  {
   "cell_type": "code",
   "execution_count": null,
   "metadata": {},
   "outputs": [],
   "source": []
  }
 ],
 "metadata": {
  "kernelspec": {
   "display_name": "Python 3",
   "language": "python",
   "name": "python3"
  },
  "language_info": {
   "codemirror_mode": {
    "name": "ipython",
    "version": 3
   },
   "file_extension": ".py",
   "mimetype": "text/x-python",
   "name": "python",
   "nbconvert_exporter": "python",
   "pygments_lexer": "ipython3",
   "version": "3.7.9"
  }
 },
 "nbformat": 4,
 "nbformat_minor": 4
}
